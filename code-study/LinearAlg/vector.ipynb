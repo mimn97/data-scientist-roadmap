{
 "cells": [
  {
   "cell_type": "markdown",
   "metadata": {},
   "source": [
    "# Learning Vector in Numpy"
   ]
  },
  {
   "cell_type": "code",
   "execution_count": 22,
   "metadata": {},
   "outputs": [],
   "source": [
    "import numpy as np \n",
    "import matplotlib.pyplot as plt\n",
    "\n",
    "# NOTE: these lines define global figure properties used for publication.\n",
    "import matplotlib_inline.backend_inline\n",
    "matplotlib_inline.backend_inline.set_matplotlib_formats('svg') # display figures in vector format\n",
    "plt.rcParams.update({'font.size':14}) # set global font size"
   ]
  },
  {
   "cell_type": "code",
   "execution_count": 23,
   "metadata": {},
   "outputs": [],
   "source": [
    "asList  = [1,2,3]\n",
    "asArray = np.array([1,2,3]) # 1D array\n",
    "rowVec  = np.array([ [1,2,3] ]) # 2D array - row\n",
    "colVec  = np.array([ [1],[2],[3] ]) # 2D array - column"
   ]
  },
  {
   "cell_type": "code",
   "execution_count": 24,
   "metadata": {},
   "outputs": [
    {
     "name": "stdout",
     "output_type": "stream",
     "text": [
      "asList:  (3,)\n",
      "asArray: (3,)\n",
      "rowVec:  (1, 3)\n",
      "colVec:  (3, 1)\n"
     ]
    }
   ],
   "source": [
    "print(f'asList:  {np.shape(asList)}')\n",
    "print(f'asArray: {asArray.shape}')\n",
    "print(f'rowVec:  {rowVec.shape}')\n",
    "print(f'colVec:  {colVec.shape}')"
   ]
  },
  {
   "cell_type": "code",
   "execution_count": 25,
   "metadata": {},
   "outputs": [
    {
     "name": "stdout",
     "output_type": "stream",
     "text": [
      "[14 25 36]\n"
     ]
    }
   ],
   "source": [
    "v = np.array([4,5,6])\n",
    "w = np.array([10,20,30])\n",
    "u = np.array([0,3,6,9])\n",
    "vPlusW = v+w\n",
    "print(vPlusW)\n",
    "# uPlusW = u+w # error! dimensions mismatched!"
   ]
  },
  {
   "cell_type": "markdown",
   "metadata": {},
   "source": [
    "Broadcasting"
   ]
  },
  {
   "cell_type": "code",
   "execution_count": 26,
   "metadata": {},
   "outputs": [
    {
     "data": {
      "text/plain": [
       "array([[14, 15, 16],\n",
       "       [24, 25, 26],\n",
       "       [34, 35, 36]])"
      ]
     },
     "execution_count": 26,
     "metadata": {},
     "output_type": "execute_result"
    }
   ],
   "source": [
    "v = np.array([[4,5,6]]) # row vector\n",
    "w = np.array([[10,20,30]]).T # column vector\n",
    "v+w"
   ]
  },
  {
   "cell_type": "code",
   "execution_count": 27,
   "metadata": {},
   "outputs": [
    {
     "name": "stdout",
     "output_type": "stream",
     "text": [
      "[3, 4, 5, 3, 4, 5]\n",
      "[ 6  8 10]\n"
     ]
    }
   ],
   "source": [
    "s = 2\n",
    "a = [3,4,5] # as list\n",
    "b = np.array(a) # as np array\n",
    "print(a*s)\n",
    "print(b*s) #scalar-vector multiplication"
   ]
  },
  {
   "cell_type": "code",
   "execution_count": 28,
   "metadata": {},
   "outputs": [
    {
     "data": {
      "text/plain": [
       "array([5, 8])"
      ]
     },
     "execution_count": 28,
     "metadata": {},
     "output_type": "execute_result"
    }
   ],
   "source": [
    "s = 2\n",
    "v = np.array([3,6])\n",
    "s+v "
   ]
  },
  {
   "cell_type": "code",
   "execution_count": 29,
   "metadata": {},
   "outputs": [
    {
     "name": "stdout",
     "output_type": "stream",
     "text": [
      "[[1]\n",
      " [2]\n",
      " [3]]\n"
     ]
    },
    {
     "data": {
      "text/plain": [
       "array([[11, 21],\n",
       "       [12, 22],\n",
       "       [13, 23]])"
      ]
     },
     "execution_count": 29,
     "metadata": {},
     "output_type": "execute_result"
    }
   ],
   "source": [
    "v = np.array([[1,2,3]]).T # col vector\n",
    "print(v)\n",
    "w = np.array([[10,20]])   # row vector\n",
    "v + w # addition with broadcasting"
   ]
  },
  {
   "cell_type": "markdown",
   "metadata": {},
   "source": [
    "# Norm \n",
    "The magnitude of a vector—​also called the geometric length or the norm—is the distance from tail to head of a vector, and is computed using the standard Euclidean distance formula: the square root of the sum of squared vector elements"
   ]
  },
  {
   "cell_type": "code",
   "execution_count": 30,
   "metadata": {},
   "outputs": [
    {
     "name": "stdout",
     "output_type": "stream",
     "text": [
      "6\n",
      "14.422205101855956\n"
     ]
    }
   ],
   "source": [
    "v = np.array([1,2,3,7,8,9])\n",
    "v_dim = len(v)  # math dimensionality - magnitude\n",
    "print(v_dim)\n",
    "v_mag = np.linalg.norm(v) # math magnitude, length, or norm\n",
    "print(v_mag)"
   ]
  },
  {
   "cell_type": "code",
   "execution_count": 33,
   "metadata": {},
   "outputs": [
    {
     "name": "stdout",
     "output_type": "stream",
     "text": [
      "1.0\n",
      "3.7416573867739413 3.7416573867739413\n"
     ]
    }
   ],
   "source": [
    "# the function\n",
    "def normOfVect(v):\n",
    "  return np.sqrt(np.sum(v**2))\n",
    "\n",
    "# test it on a unit-norm vector\n",
    "w = np.array([0,0,1])\n",
    "print( normOfVect(w) )\n",
    "\n",
    "# non-unit-norm vector, and confirm using np.linalg.norm\n",
    "w = np.array([1,2,3])\n",
    "print( normOfVect(w),np.linalg.norm(w) )"
   ]
  },
  {
   "cell_type": "code",
   "execution_count": 34,
   "metadata": {},
   "outputs": [
    {
     "name": "stdout",
     "output_type": "stream",
     "text": [
      "[0. 1. 0.]\n",
      "[0. 1. 0.]\n",
      "[ 0.83395039 -0.32075015  0.44905021]\n",
      " \n",
      "15.588457268119896 0.9999999999999999\n",
      "\n",
      "\n",
      "\n",
      "\n"
     ]
    },
    {
     "name": "stderr",
     "output_type": "stream",
     "text": [
      "/var/folders/pb/27nkdx3177739j51_cy47qzh0000gn/T/ipykernel_8497/4220783721.py:6: RuntimeWarning: invalid value encountered in divide\n",
      "  return v / mu\n"
     ]
    },
    {
     "data": {
      "text/plain": [
       "array([[nan],\n",
       "       [nan],\n",
       "       [nan],\n",
       "       [nan]])"
      ]
     },
     "execution_count": 34,
     "metadata": {},
     "output_type": "execute_result"
    }
   ],
   "source": [
    "# define function for creating unit vector of a vector input\n",
    "def createUnitVector(v):\n",
    "  # get vector norm\n",
    "  mu = np.linalg.norm(v)\n",
    "  # return unit vector\n",
    "  return v / mu\n",
    "\n",
    "# test on a unit vector\n",
    "w = np.array([0,1,0])\n",
    "print( createUnitVector(w) )\n",
    "\n",
    "# test on a non-unit vector that is easy to confirm\n",
    "w = np.array([0,3,0])\n",
    "print( createUnitVector(w) )\n",
    "\n",
    "# test on a non-unit vector\n",
    "w = np.array([13,-5,7])\n",
    "uw = createUnitVector(w)\n",
    "print( uw ), print(' ')\n",
    "# confirm the vectors' norms\n",
    "print( np.linalg.norm(w),np.linalg.norm(uw) )\n",
    "\n",
    "# what happens with the zeros vector?\n",
    "print('\\n\\n\\n') # just some spaces\n",
    "createUnitVector( np.zeros((4,1)) )"
   ]
  },
  {
   "cell_type": "markdown",
   "metadata": {},
   "source": [
    "# Dot Product"
   ]
  },
  {
   "cell_type": "markdown",
   "metadata": {},
   "source": [
    "- The dot product can be interpreted as a measure of similarity or mapping between two vectors. \n",
    "- Defined as the product (norm) of the magnitudes of the two vectors, scaled by the cosine of the angle between them"
   ]
  },
  {
   "cell_type": "code",
   "execution_count": 31,
   "metadata": {},
   "outputs": [
    {
     "data": {
      "text/plain": [
       "np.int64(70)"
      ]
     },
     "execution_count": 31,
     "metadata": {},
     "output_type": "execute_result"
    }
   ],
   "source": [
    "v = np.array([1,2,3,4])\n",
    "w = np.array([5,6,7,8])\n",
    "np.dot(v,w)"
   ]
  },
  {
   "cell_type": "code",
   "execution_count": 32,
   "metadata": {},
   "outputs": [
    {
     "name": "stdout",
     "output_type": "stream",
     "text": [
      "110 110\n"
     ]
    }
   ],
   "source": [
    "a = np.array([ 0,1,2 ])\n",
    "b = np.array([ 3,5,8 ])\n",
    "c = np.array([ 13,21,34 ])\n",
    "\n",
    "# the dot product is distributive\n",
    "res1 = np.dot( a, b+c )\n",
    "res2 = np.dot( a,b ) + np.dot( a,c )\n",
    "\n",
    "print(res1, res2)"
   ]
  },
  {
   "cell_type": "code",
   "execution_count": 35,
   "metadata": {},
   "outputs": [
    {
     "name": "stdout",
     "output_type": "stream",
     "text": [
      "[[1 2 3]]\n",
      " \n",
      "[[1.]\n",
      " [2.]\n",
      " [3.]]\n"
     ]
    }
   ],
   "source": [
    "# the row vector to transpose\n",
    "v = np.array([[1,2,3]])\n",
    "\n",
    "# initialize the column vector\n",
    "vt = np.zeros((3,1))\n",
    "\n",
    "# direct implementation of the formula using a for loop\n",
    "for i in range(v.shape[1]):\n",
    "  vt[i,0] = v[0,i]\n",
    "\n",
    "# confirm!\n",
    "print(v), print(' ')\n",
    "print(vt)\n",
    "\n",
    "# Note about data types: The two vectors actually have different data types\n",
    "#  (ints vs. floats). That happened because I defined v using ints while the default type\n",
    "#  for np.zeros is float. You can match data types in several ways, including: \n",
    "#  (1) write 3. instead of 3 when creating v; (2) use dtype=np.float as an optional input."
   ]
  },
  {
   "cell_type": "code",
   "execution_count": 36,
   "metadata": {},
   "outputs": [
    {
     "name": "stdout",
     "output_type": "stream",
     "text": [
      "4.049180948573183\n",
      "4.0491809485731824\n"
     ]
    }
   ],
   "source": [
    "# some vector\n",
    "c = np.random.randn(5)\n",
    "\n",
    "# squared norm as dot product with itself\n",
    "sqrNrm1 = np.dot(c,c)\n",
    "\n",
    "# squared norm via our function from exercise 1\n",
    "sqrNrm2 = normOfVect(c)**2\n",
    "\n",
    "# print both to confirm they're the same\n",
    "print( sqrNrm1 )\n",
    "print( sqrNrm2 )"
   ]
  },
  {
   "cell_type": "markdown",
   "metadata": {},
   "source": [
    "# Orthogonal Vector Decomposition"
   ]
  },
  {
   "cell_type": "markdown",
   "metadata": {},
   "source": [
    "- \\beta is a scaled version of a. To project a point at the head of b onto a vector a with minimum distance, we need a formula to compute such that the length of the projection vector (b - \\beta*a) is minimized\n",
    "\n",
    "- a^T * (b-\\beta*a) = 0\n",
    "\n",
    "- Our goal is to decompose the target vector into two other vectors such that (1) those two vectors sum to the target vector, and (2) one vector is orthogonal to the reference vector while the other is parallel to the reference vector. "
   ]
  },
  {
   "cell_type": "code",
   "execution_count": 37,
   "metadata": {},
   "outputs": [
    {
     "name": "stdout",
     "output_type": "stream",
     "text": [
      "[-0.94709373  1.34905682] [ 0.09192604 -0.05909545]\n",
      "[-0.94709373  1.34905682]\n",
      "[-0.94709373  1.34905682]\n",
      "-5.551115123125783e-17\n"
     ]
    }
   ],
   "source": [
    "# generate random R2 vectors (note: no orientation here! we don't need it for this exercise)\n",
    "t = np.random.randn(2)\n",
    "r = np.random.randn(2)\n",
    "\n",
    "print(t, r)\n",
    "\n",
    "# the decomposition\n",
    "t_para = r * (np.dot(t,r) / np.dot(r,r))\n",
    "t_perp = t - t_para\n",
    "\n",
    "# confirm that the two components sum to the target\n",
    "print(t)\n",
    "print( t_para+t_perp )\n",
    "\n",
    "# confirm orthogonality (dot product must be zero!)\n",
    "print(np.dot(t_para,t_perp) )\n",
    "\n",
    "# Note about this result: Due to numerical precision errors, \n",
    "#   you might get a result of something like 10^-17, which can be interpretd as zero."
   ]
  },
  {
   "cell_type": "code",
   "execution_count": null,
   "metadata": {},
   "outputs": [],
   "source": []
  }
 ],
 "metadata": {
  "kernelspec": {
   "display_name": "data_analysis",
   "language": "python",
   "name": "python3"
  },
  "language_info": {
   "codemirror_mode": {
    "name": "ipython",
    "version": 3
   },
   "file_extension": ".py",
   "mimetype": "text/x-python",
   "name": "python",
   "nbconvert_exporter": "python",
   "pygments_lexer": "ipython3",
   "version": "3.9.20"
  }
 },
 "nbformat": 4,
 "nbformat_minor": 2
}
